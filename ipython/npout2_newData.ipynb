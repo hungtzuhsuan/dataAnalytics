{
 "metadata": {
  "name": "",
  "signature": "sha256:7c0251919598307918493d61e69095af57988ce114c01666bfc64c60a93bf93c"
 },
 "nbformat": 3,
 "nbformat_minor": 0,
 "worksheets": [
  {
   "cells": [
    {
     "cell_type": "code",
     "collapsed": false,
     "input": [
      "import numpy as np\n",
      "import pandas as pd\n",
      "import matplotlib.pyplot as plt\n",
      "%matplotlib inline\n",
      "pd.set_option(\"display.max_columns\", 130)"
     ],
     "language": "python",
     "metadata": {},
     "outputs": [],
     "prompt_number": 5
    },
    {
     "cell_type": "code",
     "collapsed": false,
     "input": [
      "df2 = pd.read_csv('../csv/npout2_newData_02.csv', encoding='utf-8', sep='|', names=['C%s' % (i+1) for i in xrange(222)])\n",
      "df3 = pd.read_csv('../csv/npout2_newData_03.csv', encoding='utf-8', sep='|', names=['C%s' % (i+1) for i in xrange(222)])\n",
      "df4 = pd.read_csv('../csv/npout2_newData_04.csv', encoding='utf-8', sep='|', names=['C%s' % (i+1) for i in xrange(222)])"
     ],
     "language": "python",
     "metadata": {},
     "outputs": [],
     "prompt_number": 2
    },
    {
     "cell_type": "code",
     "collapsed": false,
     "input": [
      "#list2 = df2.loc[(df2['C4']=='Y'), 'C3']\n",
      "#df3.loc[df3['C3'].isin(list2),].head()\n",
      "pd.crosstab(df2['C4'], df2['C7'])"
     ],
     "language": "python",
     "metadata": {},
     "outputs": [
      {
       "html": [
        "<div style=\"max-width:1500px;overflow:auto;\">\n",
        "<table border=\"1\" class=\"dataframe\">\n",
        "  <thead>\n",
        "    <tr style=\"text-align: right;\">\n",
        "      <th>C7</th>\n",
        "      <th>20\u6b72\u4ee5\u4e0b</th>\n",
        "      <th>21~25\u6b72</th>\n",
        "      <th>25~30\u6b72</th>\n",
        "      <th>30~40\u6b72</th>\n",
        "      <th>40~50\u6b72</th>\n",
        "      <th>50~60\u6b72</th>\n",
        "      <th>60~70\u6b72</th>\n",
        "      <th>70\u6b72\u4ee5\u4e0a</th>\n",
        "    </tr>\n",
        "    <tr>\n",
        "      <th>C4</th>\n",
        "      <th></th>\n",
        "      <th></th>\n",
        "      <th></th>\n",
        "      <th></th>\n",
        "      <th></th>\n",
        "      <th></th>\n",
        "      <th></th>\n",
        "      <th></th>\n",
        "    </tr>\n",
        "  </thead>\n",
        "  <tbody>\n",
        "    <tr>\n",
        "      <th>N</th>\n",
        "      <td>1017</td>\n",
        "      <td>1909</td>\n",
        "      <td>2792</td>\n",
        "      <td>9067</td>\n",
        "      <td>10610</td>\n",
        "      <td>9910</td>\n",
        "      <td>4615</td>\n",
        "      <td>1720</td>\n",
        "    </tr>\n",
        "    <tr>\n",
        "      <th>Y</th>\n",
        "      <td>911</td>\n",
        "      <td>2656</td>\n",
        "      <td>3833</td>\n",
        "      <td>10351</td>\n",
        "      <td>9853</td>\n",
        "      <td>7757</td>\n",
        "      <td>3144</td>\n",
        "      <td>791</td>\n",
        "    </tr>\n",
        "  </tbody>\n",
        "</table>\n",
        "</div>"
       ],
       "metadata": {},
       "output_type": "pyout",
       "prompt_number": 8,
       "text": [
        "C7  20\u6b72\u4ee5\u4e0b  21~25\u6b72  25~30\u6b72  30~40\u6b72  40~50\u6b72  50~60\u6b72  60~70\u6b72  70\u6b72\u4ee5\u4e0a\n",
        "C4                                                              \n",
        "N    1017    1909    2792    9067   10610    9910    4615   1720\n",
        "Y     911    2656    3833   10351    9853    7757    3144    791"
       ]
      }
     ],
     "prompt_number": 8
    },
    {
     "cell_type": "code",
     "collapsed": false,
     "input": [],
     "language": "python",
     "metadata": {},
     "outputs": []
    }
   ],
   "metadata": {}
  }
 ]
}